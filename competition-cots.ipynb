{
 "cells": [
  {
   "cell_type": "markdown",
   "id": "3666ff2b-4299-4fc2-97ac-6eb71be77339",
   "metadata": {},
   "source": [
    "# Tensorflow COTS"
   ]
  },
  {
   "cell_type": "code",
   "execution_count": null,
   "id": "0815e92c-d3fc-4b02-aaeb-db7f742505fb",
   "metadata": {},
   "outputs": [],
   "source": [
    "# !pip install pandas\n",
    "# !pip install tqdm\n",
    "# !pip install ipywidgets\n",
    "# !pip install jupyterlab_widgets \n",
    "# pip install ast\n",
    "# pip install shutil\n",
    "# pip install lxml\n",
    "# # pip install xml\n",
    "\n",
    "#####################\n",
    "# !pip install joblib\n",
    "# !pip install sklearn"
   ]
  },
  {
   "cell_type": "code",
   "execution_count": null,
   "id": "19c386cb-4ee9-4a19-b5a1-cfe70d783021",
   "metadata": {},
   "outputs": [],
   "source": [
    "import warnings\n",
    "warnings.filterwarnings(\"ignore\")\n",
    "\n",
    "sys.path.append('/kaggle/')\n",
    "\n",
    "import pandas as pd\n",
    "from tqdm.notebook import tqdm\n",
    "tqdm.pandas()\n",
    "import ast\n",
    "import os\n",
    "from shutil import copyfile\n",
    "from lxml.etree import Element, SubElement, tostring\n",
    "from xml.dom.minidom import parseString\n",
    "\n",
    "###########################\n",
    "# import json\n",
    "# # from dicttoxml import dicttoxml\n",
    "# import argparse\n",
    "\n",
    "# # import torch\n",
    "# import importlib\n",
    "# import cv2 \n",
    "\n",
    "# from sklearn.model_selection import GroupKFold\n",
    "# from PIL import Image\n",
    "# from string import Template\n",
    "# from IPython.display import display\n",
    "\n",
    "# import numpy as np\n",
    "# import matplotlib.pyplot as plt\n",
    "# from multiprocessing import Pool\n",
    "\n",
    "# # from IPython.display import display, HTML\n",
    "# # from matplotlib import animation, rc\n",
    "# # rc('animation', html='jshtml')\n",
    "\n",
    "# from itertools import groupby\n",
    "# import pickle\n",
    "# import glob"
   ]
  },
  {
   "cell_type": "code",
   "execution_count": 3,
   "id": "9a970824-0e60-47d9-9a9d-43143ff69259",
   "metadata": {
    "tags": []
   },
   "outputs": [
    {
     "name": "stdout",
     "output_type": "stream",
     "text": [
      "nvcc: NVIDIA (R) Cuda compiler driver\n",
      "Copyright (c) 2005-2019 NVIDIA Corporation\n",
      "Built on Wed_Oct_23_19:24:38_PDT_2019\n",
      "Cuda compilation tools, release 10.2, V10.2.89\n"
     ]
    }
   ],
   "source": [
    "# check Torch and CUDA version\n",
    "# !nvidia-smi\n",
    "!nvcc --version\n",
    "# print(f\"Tensorflow: {tf.__version__}\")"
   ]
  },
  {
   "cell_type": "code",
   "execution_count": 4,
   "id": "38c7445a-06e5-488d-a899-b9278aeab515",
   "metadata": {},
   "outputs": [],
   "source": [
    "ROOT_DIR       = '/kaggle'                                     # directory root\n",
    "DATA_DIR       = '/kaggle/input/TensorflowGreatBarrierReef'    # directory to save DATASET DATASET_PATH\n",
    "WORK_DIR       = '/kaggle/working/' \n",
    "\n",
    "VOC_DIR        = '/kaggle/VOC2022'                             # directory to save images format p_voc\n",
    "VOC_IMAGE_DIR  = '/kaggle/VOC2022/JPEGImages'                  # directory to save images\n",
    "LABEL_TXT_DIR  = '/kaggle/VOC2022/ImageSets/Main'              # directory to save annotations\n",
    "VOC_ANNO_DIR   = '/kaggle/VOC2022/annotations'                 # directory to save annotations\n",
    "\n",
    "# VOC_LABEL_DIR      = '/kaggle/VOC2022/annotations/labels'      # directory to save labels\n",
    "# VOC_XML_DIR        = '/kaggle/VOC2022/annotations/xmls'        # directory to save xmls"
   ]
  },
  {
   "cell_type": "code",
   "execution_count": 5,
   "id": "492e3589-b1fb-4df5-9e8a-ca9249232330",
   "metadata": {},
   "outputs": [
    {
     "name": "stdout",
     "output_type": "stream",
     "text": [
      "mkdir: cannot create directory ‘/kaggle/VOC2022’: File exists\n"
     ]
    }
   ],
   "source": [
    "# Create dirs\n",
    "!mkdir {VOC_DIR}\n",
    "!mkdir -p {VOC_IMAGE_DIR}\n",
    "!mkdir -p {LABEL_TXT_DIR}\n",
    "!mkdir -p {VOC_ANNO_DIR}\n",
    "\n",
    "# !mkdir {IMAGE_DIR}{DATASET_PATH}/train2017\n",
    "# !mkdir {IMAGE_DIR}{DATASET_PATH}/val2017"
   ]
  },
  {
   "cell_type": "code",
   "execution_count": 6,
   "id": "aed693a6-2157-4ca9-93c8-4968b416dbd4",
   "metadata": {},
   "outputs": [],
   "source": [
    "# FOLD      = 5 # which fold to train\n",
    "# REMOVE_NOBBOX = True # remove images with no bbox"
   ]
  },
  {
   "cell_type": "code",
   "execution_count": 7,
   "id": "ca0771a1-c06d-43a1-9fb0-0d03ef6edeb3",
   "metadata": {},
   "outputs": [],
   "source": [
    "# # \n",
    "# df = pd.read_csv(f'{DATA_DIR}/train.csv')\n",
    "# df.head(3)\n"
   ]
  },
  {
   "cell_type": "code",
   "execution_count": 8,
   "id": "7873977f-288f-43ca-a75a-0f091e6ac18b",
   "metadata": {},
   "outputs": [],
   "source": [
    "def get_bbox(annots):\n",
    "    bboxes = [list(annot.values()) for annot in annots]\n",
    "    return bboxes"
   ]
  },
  {
   "cell_type": "code",
   "execution_count": 9,
   "id": "2d2afc46-c21d-420e-8adc-dc6e25a0f7d2",
   "metadata": {},
   "outputs": [],
   "source": [
    "def get_path(row):        \n",
    "    im_str        = row['image_id']\n",
    "    im_str_sum    = (len(im_str))\n",
    "    im_name       = im_str[0] + '0'*(9-im_str_sum) + im_str[2:]\n",
    "    im_path_name  = os.path.join(VOC_IMAGE_DIR, im_name)\n",
    "    xml_path_name = os.path.join(VOC_ANNO_DIR,  im_name)\n",
    "    \n",
    "    row['image_path']   = f'{im_path_name}.jpg'   \n",
    "    row['mxl_path']     = f'{xml_path_name}.xml'\n",
    "    # row['txt_path']   = f'{xml_path_name}.txt'   \n",
    "    \n",
    "    row['im_name']      = f'{im_name}.jpg'\n",
    "    # row['num_bbox']     = row['annotations'].count('x')    \n",
    "    row['old_image_path'] = f'{DATA_DIR}/train_images/video_{row.video_id}/{row.video_frame}.jpg'\n",
    "    return row"
   ]
  },
  {
   "cell_type": "code",
   "execution_count": 10,
   "id": "be6dada3-2431-4e49-a6e8-eea7dae44c76",
   "metadata": {},
   "outputs": [],
   "source": [
    "def gen_xml(row):    \n",
    "    obj_sum = row['num_bbox']\n",
    "    \n",
    "    if obj_sum > 0:\n",
    "        \n",
    "        path   = row['old_image_path']\n",
    "        new_path   = row['image_path']\n",
    "        copyfile(f'{path}', f'{new_path}')\n",
    " \n",
    "        xmin_tuple = []\n",
    "        ymin_tuple = []\n",
    "        xmax_tuple = []\n",
    "        ymax_tuple = []\n",
    "        \n",
    "        bbox_list  = row['bboxes']\n",
    "        im_name    = row['im_name']\n",
    "        xml_dst    = row['mxl_path']\n",
    "\n",
    "        for i in range(0, obj_sum):\n",
    "            x=bbox_list[i][0]\n",
    "            y=bbox_list[i][1]\n",
    "            w=bbox_list[i][2]\n",
    "            h=bbox_list[i][3]\n",
    "\n",
    "            xmin_tuple.append(x)\n",
    "            ymin_tuple.append(y)\n",
    "            xmax = x + w\n",
    "            if xmax > 1280:\n",
    "                xmax = 1280\n",
    "            xmax_tuple.append(xmax)\n",
    "            ymax = y + h\n",
    "            if ymax > 720:\n",
    "                ymax = 720\n",
    "            ymax_tuple.append(ymax)        \n",
    "\n",
    "        node_root = Element('annotation')\n",
    "        node_folder = SubElement(node_root, 'folder')\n",
    "        node_folder.text = 'VOC2022'\n",
    "\n",
    "        node_filename = SubElement(node_root, 'filename')\n",
    "        node_filename.text = im_name\n",
    "\n",
    "        node_object_num = SubElement(node_root, 'object_num')\n",
    "        node_object_num.text = str(obj_sum)\n",
    "\n",
    "        node_size = SubElement(node_root, 'size')\n",
    "        node_width = SubElement(node_size, 'width')\n",
    "        node_width.text = \"1280\"\n",
    "\n",
    "        node_height = SubElement(node_size, 'height')\n",
    "        node_height.text = \"720\"\n",
    "\n",
    "        for i in range(obj_sum):  \n",
    "            node_object = SubElement(node_root, 'object')\n",
    "            node_name = SubElement(node_object, 'name')\n",
    "            node_name.text = \"starfish\"\n",
    "            node_difficult = SubElement(node_object, 'difficult')\n",
    "            node_difficult.text = '0'\n",
    "\n",
    "            node_bndbox = SubElement(node_object, 'bndbox')\n",
    "            node_xmin = SubElement(node_bndbox, 'xmin')\n",
    "            node_xmin.text = str(xmin_tuple[i])\n",
    "            node_ymin = SubElement(node_bndbox, 'ymin')\n",
    "            node_ymin.text = str(ymin_tuple[i])\n",
    "            node_xmax = SubElement(node_bndbox, 'xmax')\n",
    "            node_xmax.text = str(xmax_tuple[i])\n",
    "            node_ymax = SubElement(node_bndbox, 'ymax')\n",
    "            node_ymax.text = str(ymax_tuple[i])\n",
    "\n",
    "        xml = tostring(node_root)\n",
    "        dom = parseString(xml)\n",
    "        with open(xml_dst,'wb') as f:        \n",
    "            f.write(dom.toprettyxml(indent='\\t',encoding = 'utf-8'))\n",
    "    else:\n",
    "        pass"
   ]
  },
  {
   "cell_type": "code",
   "execution_count": 19,
   "id": "3b3ac409-bccf-4e9b-9434-5d1bdbbd50aa",
   "metadata": {
    "tags": []
   },
   "outputs": [
    {
     "data": {
      "application/vnd.jupyter.widget-view+json": {
       "model_id": "7040072d8e8b4aceb610cec0c8f18620",
       "version_major": 2,
       "version_minor": 0
      },
      "text/plain": [
       "  0%|          | 0/4919 [00:00<?, ?it/s]"
      ]
     },
     "metadata": {},
     "output_type": "display_data"
    },
    {
     "data": {
      "application/vnd.jupyter.widget-view+json": {
       "model_id": "53fa590e5e3a47a3b93b160972a660c8",
       "version_major": 2,
       "version_minor": 0
      },
      "text/plain": [
       "  0%|          | 0/4919 [00:00<?, ?it/s]"
      ]
     },
     "metadata": {},
     "output_type": "display_data"
    },
    {
     "data": {
      "application/vnd.jupyter.widget-view+json": {
       "model_id": "e356e9f5f4a44c57906c955c9a366232",
       "version_major": 2,
       "version_minor": 0
      },
      "text/plain": [
       "  0%|          | 0/4919 [00:00<?, ?it/s]"
      ]
     },
     "metadata": {},
     "output_type": "display_data"
    },
    {
     "data": {
      "text/html": [
       "<div>\n",
       "<style scoped>\n",
       "    .dataframe tbody tr th:only-of-type {\n",
       "        vertical-align: middle;\n",
       "    }\n",
       "\n",
       "    .dataframe tbody tr th {\n",
       "        vertical-align: top;\n",
       "    }\n",
       "\n",
       "    .dataframe thead th {\n",
       "        text-align: right;\n",
       "    }\n",
       "</style>\n",
       "<table border=\"1\" class=\"dataframe\">\n",
       "  <thead>\n",
       "    <tr style=\"text-align: right;\">\n",
       "      <th></th>\n",
       "      <th>video_id</th>\n",
       "      <th>sequence</th>\n",
       "      <th>video_frame</th>\n",
       "      <th>sequence_frame</th>\n",
       "      <th>image_id</th>\n",
       "      <th>annotations</th>\n",
       "      <th>num_bbox</th>\n",
       "      <th>bboxes</th>\n",
       "      <th>image_path</th>\n",
       "      <th>mxl_path</th>\n",
       "      <th>im_name</th>\n",
       "      <th>old_image_path</th>\n",
       "    </tr>\n",
       "  </thead>\n",
       "  <tbody>\n",
       "    <tr>\n",
       "      <th>16</th>\n",
       "      <td>0</td>\n",
       "      <td>40258</td>\n",
       "      <td>16</td>\n",
       "      <td>16</td>\n",
       "      <td>0-16</td>\n",
       "      <td>[{'x': 559, 'y': 213, 'width': 50, 'height': 32}]</td>\n",
       "      <td>1</td>\n",
       "      <td>[[559, 213, 50, 32]]</td>\n",
       "      <td>/kaggle/VOC2022/JPEGImages/00000016.jpg</td>\n",
       "      <td>/kaggle/VOC2022/annotations/00000016.xml</td>\n",
       "      <td>00000016.jpg</td>\n",
       "      <td>/kaggle/input/TensorflowGreatBarrierReef/...</td>\n",
       "    </tr>\n",
       "    <tr>\n",
       "      <th>17</th>\n",
       "      <td>0</td>\n",
       "      <td>40258</td>\n",
       "      <td>17</td>\n",
       "      <td>17</td>\n",
       "      <td>0-17</td>\n",
       "      <td>[{'x': 558, 'y': 213, 'width': 50, 'height': 32}]</td>\n",
       "      <td>1</td>\n",
       "      <td>[[558, 213, 50, 32]]</td>\n",
       "      <td>/kaggle/VOC2022/JPEGImages/00000017.jpg</td>\n",
       "      <td>/kaggle/VOC2022/annotations/00000017.xml</td>\n",
       "      <td>00000017.jpg</td>\n",
       "      <td>/kaggle/input/TensorflowGreatBarrierReef/...</td>\n",
       "    </tr>\n",
       "  </tbody>\n",
       "</table>\n",
       "</div>"
      ],
      "text/plain": [
       "    video_id  sequence  video_frame  sequence_frame image_id  \\\n",
       "16         0     40258           16              16     0-16   \n",
       "17         0     40258           17              17     0-17   \n",
       "\n",
       "                                          annotations  num_bbox  \\\n",
       "16  [{'x': 559, 'y': 213, 'width': 50, 'height': 32}]         1   \n",
       "17  [{'x': 558, 'y': 213, 'width': 50, 'height': 32}]         1   \n",
       "\n",
       "                  bboxes                                    image_path  \\\n",
       "16  [[559, 213, 50, 32]]  /kaggle/VOC2022/JPEGImages/00000016.jpg   \n",
       "17  [[558, 213, 50, 32]]  /kaggle/VOC2022/JPEGImages/00000017.jpg   \n",
       "\n",
       "                                         mxl_path       im_name  \\\n",
       "16  /kaggle/VOC2022/annotations/00000016.xml  00000016.jpg   \n",
       "17  /kaggle/VOC2022/annotations/00000017.xml  00000017.jpg   \n",
       "\n",
       "                                       old_image_path  \n",
       "16  /kaggle/input/TensorflowGreatBarrierReef/...  \n",
       "17  /kaggle/input/TensorflowGreatBarrierReef/...  "
      ]
     },
     "metadata": {},
     "output_type": "display_data"
    }
   ],
   "source": [
    "#\n",
    "df = pd.read_csv(f'{DATA_DIR}/train.csv')\n",
    "\n",
    "# Taken only annotated photos\n",
    "df[\"num_bbox\"] = df['annotations'].apply(lambda x: str.count(x, 'x'))\n",
    "df_train = df[df[\"num_bbox\"]>0]\n",
    "\n",
    "#Annotations \n",
    "df_train['annotations'] = df_train['annotations'].progress_apply(lambda x: ast.literal_eval(x))\n",
    "df_train['bboxes'] = df_train.annotations.progress_apply(get_bbox)\n",
    "\n",
    "# #Images resolution\n",
    "# df_train[\"width\"] = 1280\n",
    "# df_train[\"height\"] = 720\n",
    "\n",
    "#Path of images\n",
    "df_train = df_train.progress_apply(get_path, axis=1)\n",
    "display(df_train.head(2))"
   ]
  },
  {
   "cell_type": "code",
   "execution_count": 23,
   "id": "21262dc8-bae8-4271-94e9-bb375d1ee2d5",
   "metadata": {},
   "outputs": [],
   "source": [
    "import warnings\n",
    "warnings.filterwarnings(\"ignore\")\n",
    "import pandas as pd\n",
    "from tqdm.notebook import tqdm\n",
    "tqdm.pandas()\n",
    "import ast\n",
    "import os\n",
    "from shutil import copyfile\n",
    "from lxml.etree import Element, SubElement, tostring\n",
    "from xml.dom.minidom import parseString"
   ]
  },
  {
   "cell_type": "code",
   "execution_count": 2,
   "id": "88b741aa-290d-4fcd-acd2-5891389cfddc",
   "metadata": {
    "tags": []
   },
   "outputs": [],
   "source": [
    "# \n",
    "import warnings\n",
    "warnings.filterwarnings(\"ignore\")\n",
    "\n",
    "# import json\n",
    "# # from dicttoxml import dicttoxml\n",
    "# import argparse\n",
    "# from lxml.etree import Element, SubElement, tostring\n",
    "# from xml.dom.minidom import parseString\n",
    "import pandas as pd\n",
    "# # import torch\n",
    "# import importlib\n",
    "# import cv2 \n",
    "\n",
    "\n",
    "\n",
    "# from sklearn.model_selection import GroupKFold\n",
    "# from PIL import Image\n",
    "# from string import Template\n",
    "# from IPython.display import display\n",
    "\n",
    "# import sys\n",
    "# sys.path.append('/kaggle/')\n",
    "\n",
    "# import numpy as np\n",
    "# import matplotlib.pyplot as plt\n",
    "# from multiprocessing import Pool\n",
    "\n",
    "# # from IPython.display import display, HTML\n",
    "# # from matplotlib import animation, rc\n",
    "# # rc('animation', html='jshtml')\n",
    "\n",
    "# from itertools import groupby\n",
    "# import pickle\n",
    "# import glob\n",
    "# import shutil\n"
   ]
  },
  {
   "cell_type": "code",
   "execution_count": null,
   "id": "076db8a5-0fea-4afb-ab18-265b273c0c22",
   "metadata": {},
   "outputs": [],
   "source": [
    "# data = (df.num_bbox>0).value_counts(normalize=True)*100\n",
    "# print(f\"No BBox: {data[0]:0.2f}% | With BBox: {data[1]:0.2f}%\")"
   ]
  },
  {
   "cell_type": "code",
   "execution_count": 24,
   "id": "bcb582f0-2ecb-4ba7-9898-ab4380bfb98b",
   "metadata": {},
   "outputs": [
    {
     "data": {
      "application/vnd.jupyter.widget-view+json": {
       "model_id": "202f1a2fadc045d4b56be5de918822d8",
       "version_major": 2,
       "version_minor": 0
      },
      "text/plain": [
       "  0%|          | 0/4919 [00:00<?, ?it/s]"
      ]
     },
     "metadata": {},
     "output_type": "display_data"
    }
   ],
   "source": [
    "# \n",
    "df_train = df_train.progress_apply(gen_xml, axis=1)"
   ]
  },
  {
   "cell_type": "code",
   "execution_count": null,
   "id": "fd995774-4c52-404c-9a4f-39e034cc039a",
   "metadata": {},
   "outputs": [],
   "source": []
  },
  {
   "cell_type": "code",
   "execution_count": null,
   "id": "eef34532-2796-47cc-9553-8d20acde0e1b",
   "metadata": {},
   "outputs": [],
   "source": [
    "# print(df.keys())\n",
    "\n",
    "# data = (df.num_bbox>0).value_counts(normalize=True)*100\n",
    "# print(f\"No BBox: {data[0]:0.2f}% | With BBox: {data[1]:0.2f}%\")\n",
    "\n",
    "# xmin_tuple = [d.get('x') for d in df['annotations'][9695]]\n",
    "# xmin_tuple\n",
    "# # type(xmin_tuple)\n",
    "# # type(df['bboxes'][9695])\n",
    "# list_anno = df['bboxes'][9695]\n",
    "# len( df['bboxes'][9695])\n",
    "# list_anno[0][0:]"
   ]
  },
  {
   "cell_type": "code",
   "execution_count": null,
   "id": "0f53c2cf-6626-4726-b3e6-74516d634601",
   "metadata": {},
   "outputs": [],
   "source": []
  }
 ],
 "metadata": {
  "kernelspec": {
   "display_name": "Python 3 (ipykernel)",
   "language": "python",
   "name": "python3"
  },
  "language_info": {
   "codemirror_mode": {
    "name": "ipython",
    "version": 3
   },
   "file_extension": ".py",
   "mimetype": "text/x-python",
   "name": "python",
   "nbconvert_exporter": "python",
   "pygments_lexer": "ipython3",
   "version": "3.7.12"
  }
 },
 "nbformat": 4,
 "nbformat_minor": 5
}
